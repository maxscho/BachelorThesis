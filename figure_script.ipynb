{
 "cells": [
  {
   "cell_type": "code",
   "execution_count": 1,
   "metadata": {
    "pycharm": {
     "name": "#%%\n"
    }
   },
   "outputs": [],
   "source": [
    "import matplotlib.pyplot as plt\n",
    "import matplotlib.ticker as tkr\n",
    "import matplotlib.ticker as plticker\n",
    "import plotly.express as px\n",
    "import pandas as pd\n",
    "import numpy as np\n",
    "from pandasql import sqldf\n",
    "from datetime import datetime\n",
    "import requests\n",
    "import rdflib\n",
    "import os\n",
    "import gzip"
   ]
  },
  {
   "cell_type": "code",
   "execution_count": 2,
   "metadata": {
    "pycharm": {
     "name": "#%%\n"
    }
   },
   "outputs": [],
   "source": [
    "df_import = pd.read_csv(\"data/smwsTotal_3.csv\")"
   ]
  },
  {
   "attachments": {},
   "cell_type": "markdown",
   "metadata": {
    "pycharm": {
     "name": "#%% md\n"
    }
   },
   "source": [
    "Reduce dataset to features used in analysis"
   ]
  },
  {
   "cell_type": "code",
   "execution_count": 3,
   "metadata": {
    "pycharm": {
     "name": "#%%\n"
    }
   },
   "outputs": [
    {
     "name": "stderr",
     "output_type": "stream",
     "text": [
      "/var/folders/bf/p2txs1pj5h52q3k7m0xdtrcc0000gp/T/ipykernel_32221/404013803.py:9: SettingWithCopyWarning: \n",
      "A value is trying to be set on a copy of a slice from a DataFrame.\n",
      "Try using .loc[row_indexer,col_indexer] = value instead\n",
      "\n",
      "See the caveats in the documentation: https://pandas.pydata.org/pandas-docs/stable/user_guide/indexing.html#returning-a-view-versus-a-copy\n",
      "  df['Avg_Edits'] = (df['Edits'] / df['Pages'])\n"
     ]
    }
   ],
   "source": [
    "df = df_import[['Unnamed: 0', 'Has URL', 'Has article count', 'Has users count', 'Has edit count', 'Has property count', 'Has location']]\n",
    "df.columns = ['Name', 'Has URL', 'Pages', 'Users', 'Edits', 'Triples', 'Coordinates']\n",
    "\n",
    "df_edit = df_import[['Modification date']]\n",
    "df_created = df_import[['Creation date']]\n",
    "\n",
    "df['Avg_Edits'] = (df['Edits'] / df['Pages'])\n",
    "df = df.replace([np.inf, -np.inf], np.nan).dropna()\n"
   ]
  },
  {
   "cell_type": "markdown",
   "metadata": {
    "pycharm": {
     "name": "#%% md\n"
    }
   },
   "source": [
    "Strip dates for better calculations"
   ]
  },
  {
   "cell_type": "code",
   "execution_count": 4,
   "metadata": {
    "pycharm": {
     "name": "#%%\n"
    }
   },
   "outputs": [],
   "source": [
    "df_edit = df_edit.dropna()\n",
    "df_created = df_created.dropna()\n",
    "\n",
    "def split(row):\n",
    "\n",
    "    s = ''\n",
    "    s = s + row[0].split(' ', 1)[1]\n",
    "    s = s.split(' ', 2)[0] + ' ' + s.split(' ', 2)[1]\n",
    "    \n",
    "    return s\n",
    "\n",
    "df_edit['mod_date'] = df_edit.apply(split, axis = 1)\n",
    "df_created['created'] = df_created.apply(split, axis = 1)"
   ]
  },
  {
   "cell_type": "markdown",
   "metadata": {
    "pycharm": {
     "name": "#%% md\n"
    }
   },
   "source": [
    "Count occurences per month"
   ]
  },
  {
   "cell_type": "code",
   "execution_count": 5,
   "metadata": {
    "pycharm": {
     "name": "#%%\n"
    }
   },
   "outputs": [
    {
     "name": "stdout",
     "output_type": "stream",
     "text": [
      "       created_date  count\n",
      "0        April 2013     11\n",
      "1        April 2014     15\n",
      "2        April 2015      3\n",
      "3        April 2016      8\n",
      "4        April 2017      3\n",
      "..              ...    ...\n",
      "100  September 2017      4\n",
      "101  September 2018     13\n",
      "102  September 2019      2\n",
      "103  September 2020     20\n",
      "104  September 2021     10\n",
      "\n",
      "[105 rows x 2 columns]\n"
     ]
    },
    {
     "data": {
      "text/html": [
       "<div>\n",
       "<style scoped>\n",
       "    .dataframe tbody tr th:only-of-type {\n",
       "        vertical-align: middle;\n",
       "    }\n",
       "\n",
       "    .dataframe tbody tr th {\n",
       "        vertical-align: top;\n",
       "    }\n",
       "\n",
       "    .dataframe thead th {\n",
       "        text-align: right;\n",
       "    }\n",
       "</style>\n",
       "<table border=\"1\" class=\"dataframe\">\n",
       "  <thead>\n",
       "    <tr style=\"text-align: right;\">\n",
       "      <th></th>\n",
       "      <th>created_date</th>\n",
       "      <th>count</th>\n",
       "      <th>index</th>\n",
       "    </tr>\n",
       "  </thead>\n",
       "  <tbody>\n",
       "    <tr>\n",
       "      <th>13</th>\n",
       "      <td>August 2016</td>\n",
       "      <td>3</td>\n",
       "      <td>2016-08-01</td>\n",
       "    </tr>\n",
       "    <tr>\n",
       "      <th>99</th>\n",
       "      <td>September 2016</td>\n",
       "      <td>4</td>\n",
       "      <td>2016-09-01</td>\n",
       "    </tr>\n",
       "    <tr>\n",
       "      <th>90</th>\n",
       "      <td>October 2016</td>\n",
       "      <td>1</td>\n",
       "      <td>2016-10-01</td>\n",
       "    </tr>\n",
       "    <tr>\n",
       "      <th>82</th>\n",
       "      <td>November 2016</td>\n",
       "      <td>3</td>\n",
       "      <td>2016-11-01</td>\n",
       "    </tr>\n",
       "    <tr>\n",
       "      <th>22</th>\n",
       "      <td>December 2016</td>\n",
       "      <td>1</td>\n",
       "      <td>2016-12-01</td>\n",
       "    </tr>\n",
       "    <tr>\n",
       "      <th>...</th>\n",
       "      <td>...</td>\n",
       "      <td>...</td>\n",
       "      <td>...</td>\n",
       "    </tr>\n",
       "    <tr>\n",
       "      <th>27</th>\n",
       "      <td>December 2021</td>\n",
       "      <td>14</td>\n",
       "      <td>2021-12-01</td>\n",
       "    </tr>\n",
       "    <tr>\n",
       "      <th>36</th>\n",
       "      <td>February 2022</td>\n",
       "      <td>22</td>\n",
       "      <td>2022-02-01</td>\n",
       "    </tr>\n",
       "    <tr>\n",
       "      <th>68</th>\n",
       "      <td>March 2022</td>\n",
       "      <td>3</td>\n",
       "      <td>2022-03-01</td>\n",
       "    </tr>\n",
       "    <tr>\n",
       "      <th>9</th>\n",
       "      <td>April 2022</td>\n",
       "      <td>2</td>\n",
       "      <td>2022-04-01</td>\n",
       "    </tr>\n",
       "    <tr>\n",
       "      <th>78</th>\n",
       "      <td>May 2022</td>\n",
       "      <td>2</td>\n",
       "      <td>2022-05-01</td>\n",
       "    </tr>\n",
       "  </tbody>\n",
       "</table>\n",
       "<p>63 rows × 3 columns</p>\n",
       "</div>"
      ],
      "text/plain": [
       "      created_date  count      index\n",
       "13     August 2016      3 2016-08-01\n",
       "99  September 2016      4 2016-09-01\n",
       "90    October 2016      1 2016-10-01\n",
       "82   November 2016      3 2016-11-01\n",
       "22   December 2016      1 2016-12-01\n",
       "..             ...    ...        ...\n",
       "27   December 2021     14 2021-12-01\n",
       "36   February 2022     22 2022-02-01\n",
       "68      March 2022      3 2022-03-01\n",
       "9       April 2022      2 2022-04-01\n",
       "78        May 2022      2 2022-05-01\n",
       "\n",
       "[63 rows x 3 columns]"
      ]
     },
     "execution_count": 5,
     "metadata": {},
     "output_type": "execute_result"
    }
   ],
   "source": [
    "#df_edit.groupby(pd.to_datetime(df_edit['Modification date']).dt.strftime('%b-%Y'), sort=False)['Rep'].size().plot()\n",
    "\n",
    "df_test = df_edit.groupby(df_edit['mod_date'], as_index=False).count()\n",
    "df_show = df_created.groupby(df_created['created'], as_index=False).count()\n",
    "\n",
    "df_test.columns = ['mod_date', 'count']\n",
    "df_show.columns = ['created_date', 'count']\n",
    "\n",
    "print(df_show)\n",
    "\n",
    "df_test['index'] = pd.to_datetime(df_test['mod_date'], format='%B %Y')\n",
    "df_show['index'] = pd.to_datetime(df_show['created_date'], format='%B %Y')\n",
    "\n",
    "\n",
    "df_test = df_test.sort_values('index')\n",
    "df_show = df_show.sort_values('index')\n",
    "\n",
    "df_show = df_show.iloc[-63:]\n",
    "\n",
    "df_show"
   ]
  },
  {
   "cell_type": "markdown",
   "metadata": {
    "pycharm": {
     "name": "#%% md\n"
    }
   },
   "source": [
    "Find biggest SMWs"
   ]
  },
  {
   "cell_type": "code",
   "execution_count": 8,
   "metadata": {
    "pycharm": {
     "name": "#%%\n"
    }
   },
   "outputs": [
    {
     "data": {
      "text/html": [
       "<div>\n",
       "<style scoped>\n",
       "    .dataframe tbody tr th:only-of-type {\n",
       "        vertical-align: middle;\n",
       "    }\n",
       "\n",
       "    .dataframe tbody tr th {\n",
       "        vertical-align: top;\n",
       "    }\n",
       "\n",
       "    .dataframe thead th {\n",
       "        text-align: right;\n",
       "    }\n",
       "</style>\n",
       "<table border=\"1\" class=\"dataframe\">\n",
       "  <thead>\n",
       "    <tr style=\"text-align: right;\">\n",
       "      <th></th>\n",
       "      <th>Name</th>\n",
       "      <th>Triples</th>\n",
       "      <th>Pages</th>\n",
       "      <th>Triples/Pages</th>\n",
       "    </tr>\n",
       "  </thead>\n",
       "  <tbody>\n",
       "    <tr>\n",
       "      <th>0</th>\n",
       "      <td>Kanterella</td>\n",
       "      <td>106332072.0</td>\n",
       "      <td>557798.0</td>\n",
       "      <td>190.628278</td>\n",
       "    </tr>\n",
       "    <tr>\n",
       "      <th>1</th>\n",
       "      <td>Sanat</td>\n",
       "      <td>36608932.0</td>\n",
       "      <td>1055799.0</td>\n",
       "      <td>34.674149</td>\n",
       "    </tr>\n",
       "    <tr>\n",
       "      <th>2</th>\n",
       "      <td>Wien Geschichte Wiki</td>\n",
       "      <td>27205438.0</td>\n",
       "      <td>326044.0</td>\n",
       "      <td>83.441002</td>\n",
       "    </tr>\n",
       "    <tr>\n",
       "      <th>3</th>\n",
       "      <td>Familypedia</td>\n",
       "      <td>20181953.0</td>\n",
       "      <td>289734.0</td>\n",
       "      <td>69.656834</td>\n",
       "    </tr>\n",
       "    <tr>\n",
       "      <th>4</th>\n",
       "      <td>Traditio</td>\n",
       "      <td>20018857.0</td>\n",
       "      <td>44231.0</td>\n",
       "      <td>452.597884</td>\n",
       "    </tr>\n",
       "    <tr>\n",
       "      <th>5</th>\n",
       "      <td>The Third Turn</td>\n",
       "      <td>19300397.0</td>\n",
       "      <td>2327003.0</td>\n",
       "      <td>8.294101</td>\n",
       "    </tr>\n",
       "    <tr>\n",
       "      <th>6</th>\n",
       "      <td>Liquipedia Counter-Strike</td>\n",
       "      <td>16587259.0</td>\n",
       "      <td>188753.0</td>\n",
       "      <td>87.878121</td>\n",
       "    </tr>\n",
       "    <tr>\n",
       "      <th>7</th>\n",
       "      <td>Guild Wars 2 Wiki (en)</td>\n",
       "      <td>11512264.0</td>\n",
       "      <td>95910.0</td>\n",
       "      <td>120.031947</td>\n",
       "    </tr>\n",
       "    <tr>\n",
       "      <th>8</th>\n",
       "      <td>Järviwiki</td>\n",
       "      <td>10603581.0</td>\n",
       "      <td>97932.0</td>\n",
       "      <td>108.274936</td>\n",
       "    </tr>\n",
       "    <tr>\n",
       "      <th>9</th>\n",
       "      <td>Yu-Gi-Oh! Wikia</td>\n",
       "      <td>9682514.0</td>\n",
       "      <td>125123.0</td>\n",
       "      <td>77.383966</td>\n",
       "    </tr>\n",
       "    <tr>\n",
       "      <th>10</th>\n",
       "      <td>Liquipedia Starcraft 2 Wiki</td>\n",
       "      <td>8814003.0</td>\n",
       "      <td>39982.0</td>\n",
       "      <td>220.449277</td>\n",
       "    </tr>\n",
       "    <tr>\n",
       "      <th>11</th>\n",
       "      <td>Lexicon Leponticum</td>\n",
       "      <td>8319896.0</td>\n",
       "      <td>1064.0</td>\n",
       "      <td>7819.451128</td>\n",
       "    </tr>\n",
       "    <tr>\n",
       "      <th>12</th>\n",
       "      <td>SNPedia</td>\n",
       "      <td>8226153.0</td>\n",
       "      <td>195086.0</td>\n",
       "      <td>42.166803</td>\n",
       "    </tr>\n",
       "    <tr>\n",
       "      <th>13</th>\n",
       "      <td>Liquipedia League of Legends Wiki</td>\n",
       "      <td>8133208.0</td>\n",
       "      <td>35240.0</td>\n",
       "      <td>230.794779</td>\n",
       "    </tr>\n",
       "    <tr>\n",
       "      <th>14</th>\n",
       "      <td>WikiSpooks</td>\n",
       "      <td>8023671.0</td>\n",
       "      <td>28942.0</td>\n",
       "      <td>277.232776</td>\n",
       "    </tr>\n",
       "    <tr>\n",
       "      <th>15</th>\n",
       "      <td>Liquipedia Warcraft Wiki</td>\n",
       "      <td>8020607.0</td>\n",
       "      <td>14249.0</td>\n",
       "      <td>562.889115</td>\n",
       "    </tr>\n",
       "    <tr>\n",
       "      <th>16</th>\n",
       "      <td>Liquipedia Rocket League Wiki</td>\n",
       "      <td>7745067.0</td>\n",
       "      <td>65892.0</td>\n",
       "      <td>117.541841</td>\n",
       "    </tr>\n",
       "    <tr>\n",
       "      <th>17</th>\n",
       "      <td>Tieteen termipankki</td>\n",
       "      <td>7536269.0</td>\n",
       "      <td>41157.0</td>\n",
       "      <td>183.110261</td>\n",
       "    </tr>\n",
       "    <tr>\n",
       "      <th>18</th>\n",
       "      <td>CODECS</td>\n",
       "      <td>7192872.0</td>\n",
       "      <td>52861.0</td>\n",
       "      <td>136.071433</td>\n",
       "    </tr>\n",
       "    <tr>\n",
       "      <th>19</th>\n",
       "      <td>Liquipedia Overwatch</td>\n",
       "      <td>7158564.0</td>\n",
       "      <td>66801.0</td>\n",
       "      <td>107.162528</td>\n",
       "    </tr>\n",
       "  </tbody>\n",
       "</table>\n",
       "</div>"
      ],
      "text/plain": [
       "                                 Name      Triples      Pages  Triples/Pages\n",
       "0                          Kanterella  106332072.0   557798.0     190.628278\n",
       "1                               Sanat   36608932.0  1055799.0      34.674149\n",
       "2                Wien Geschichte Wiki   27205438.0   326044.0      83.441002\n",
       "3                         Familypedia   20181953.0   289734.0      69.656834\n",
       "4                            Traditio   20018857.0    44231.0     452.597884\n",
       "5                      The Third Turn   19300397.0  2327003.0       8.294101\n",
       "6           Liquipedia Counter-Strike   16587259.0   188753.0      87.878121\n",
       "7              Guild Wars 2 Wiki (en)   11512264.0    95910.0     120.031947\n",
       "8                           Järviwiki   10603581.0    97932.0     108.274936\n",
       "9                     Yu-Gi-Oh! Wikia    9682514.0   125123.0      77.383966\n",
       "10        Liquipedia Starcraft 2 Wiki    8814003.0    39982.0     220.449277\n",
       "11                 Lexicon Leponticum    8319896.0     1064.0    7819.451128\n",
       "12                            SNPedia    8226153.0   195086.0      42.166803\n",
       "13  Liquipedia League of Legends Wiki    8133208.0    35240.0     230.794779\n",
       "14                         WikiSpooks    8023671.0    28942.0     277.232776\n",
       "15           Liquipedia Warcraft Wiki    8020607.0    14249.0     562.889115\n",
       "16      Liquipedia Rocket League Wiki    7745067.0    65892.0     117.541841\n",
       "17                Tieteen termipankki    7536269.0    41157.0     183.110261\n",
       "18                             CODECS    7192872.0    52861.0     136.071433\n",
       "19               Liquipedia Overwatch    7158564.0    66801.0     107.162528"
      ]
     },
     "execution_count": 8,
     "metadata": {},
     "output_type": "execute_result"
    }
   ],
   "source": [
    "q = \"SELECT Name, Triples, Pages, Triples/Pages FROM df order by Triples desc LIMIT 20\"\n",
    "sqldf(q, globals())"
   ]
  },
  {
   "cell_type": "markdown",
   "metadata": {
    "pycharm": {
     "name": "#%% md\n"
    }
   },
   "source": [
    "Convert coordinates to plot on world map"
   ]
  },
  {
   "cell_type": "code",
   "execution_count": 9,
   "metadata": {
    "pycharm": {
     "name": "#%%\n"
    }
   },
   "outputs": [],
   "source": [
    "def dms_to_decimal(cor):\n",
    "    s = \"\"\n",
    "\n",
    "    s = s + cor.split('°')[0]\n",
    "    cor = cor.split('°')[1].replace(' ', '')\n",
    "    \n",
    "    s = float(s) + int((cor.split('\\'')[0]))/60\n",
    "    cor = cor.split('\\'')[1].replace(' ', '')\n",
    "\n",
    "    s = float(s) + int(cor.replace('\\\"', ''))/3600\n",
    "\n",
    "    return float(\"{0:.5f}\".format(s))\n",
    "\n",
    "test = \"43° 25' 58\\\"\"\n",
    "\n",
    "#print(dms_to_decimal(test))"
   ]
  },
  {
   "cell_type": "markdown",
   "metadata": {
    "pycharm": {
     "name": "#%% md\n"
    }
   },
   "source": [
    "Convert coordinates in df"
   ]
  },
  {
   "cell_type": "code",
   "execution_count": 11,
   "metadata": {
    "pycharm": {
     "name": "#%%\n"
    }
   },
   "outputs": [],
   "source": [
    "df['Coordinates'] = df['Coordinates'].astype(str)\n",
    "df[[\"Latitude\", \"Longitude\"]] = df[\"Coordinates\"].str.split(\",\", expand=True)\n",
    "#longitude_decimal = [dms_to_decimal(x) for x in df['Longitude']]\n",
    "#latitude_decimal = [dms_to_decimal(x) for x in df['Latitude']]\n",
    "\n",
    "df['lat'] = [dms_to_decimal(x) for x in df['Latitude']]\n",
    "df['long'] = [dms_to_decimal(x) for x in df['Longitude']]"
   ]
  },
  {
   "attachments": {},
   "cell_type": "markdown",
   "metadata": {
    "pycharm": {
     "name": "#%% md\n"
    }
   },
   "source": [
    "Create world map to see hosting locations of SMW instances"
   ]
  },
  {
   "cell_type": "code",
   "execution_count": 19,
   "metadata": {
    "pycharm": {
     "name": "#%%\n"
    }
   },
   "outputs": [
    {
     "data": {
      "application/vnd.plotly.v1+json": {
       "config": {
        "plotlyServerURL": "https://plot.ly"
       },
       "data": [
        {
         "geo": "geo",
         "hovertemplate": "<b>%{hovertext}</b><br><br>lat=%{lat}<br>long=%{lon}<extra></extra>",
         "hovertext": [
          "24 Wiki FR",
          "A Light in the Dark",
          "Aardnoot",
          "AlberniaWiki",
          "AliceSoftWiki",
          "All Mini",
          "AnOtherWiki",
          "Animanga Wiki",
          "Appropedia",
          "Archi-Wiki",
          "ArchiMedes",
          "ArchiXL IT Referentie Architectuur v2",
          "ArchiefWiki",
          "Arx Libertatis Wiki",
          "BACID",
          "BITPlan Wiki",
          "BITPlan can4eve Wiki",
          "BITPlan profiwiki Wiki",
          "Barikadopēdija",
          "BattleTechWiki",
          "Battlestar Wiki (fr.battlestarwiki.ddns.net)",
          "Baugeschichte",
          "Bedarfsverkehr.at",
          "BlueSpice Demo (de)",
          "BlueSpice Demo (en)",
          "Botnets",
          "Brickipedia (en)",
          "CCCHHWiki",
          "CNB",
          "CODECS",
          "CSA MarineBiotech Wiki",
          "Cancer Guidelines Wiki",
          "Censorpedia",
          "Chamapedia",
          "Chaosdorf Wiki",
          "Chinese Buddhist Encyclopedia",
          "Chinese Grammar Wiki",
          "Coastal Wiki",
          "Combat Arms Wiki 2",
          "Community Surface Dynamics Modeling System (CSDMS) Wiki",
          "Crews Genealogy Wiki",
          "Critical Care and Medicine Database Wiki",
          "Cultivariable Wiki",
          "Culture.si",
          "DCCWiki",
          "DFO World Wiki",
          "Datencockpit",
          "Deaf Atlas",
          "Dermoscopedia",
          "DeurneWiki",
          "DivNull RPG",
          "Doctor Who Wiki",
          "Docupedia",
          "Drebbel wiki",
          "EiKoLo",
          "Elder Scrolls Wiki (pl)",
          "Elävä perintö - wiki",
          "Energypedia",
          "Engineering and Technology History Wiki",
          "Enkol.pl",
          "Eroge Wiki",
          "Eth0Wiki",
          "Eureka Wiki",
          "Eureka Wiki FR",
          "FOIwiki",
          "FSCONS wiki",
          "Familypedia",
          "File Formats Wiki",
          "FountainPen",
          "Frack - Hackerspace Friesland",
          "Free Software Directory",
          "Freifunk Mainz Wiki",
          "Freifunk-Wiki",
          "Furry Basketball Wiki",
          "FürthWiki",
          "GATE",
          "GEMMA Online",
          "GWiki",
          "Gelsenkirchener Geschichten Wiki",
          "Gentoo Wiki",
          "Gestalt",
          "Gestalt Wiki Framework Extensions Documentation",
          "Glee Wiki",
          "GoGoPedia",
          "Governance Wiki",
          "Grazwiki",
          "Guild Wars 2 Wiki (de)",
          "Guild Wars 2 Wiki (en)",
          "Guild Wars 2 Wiki (es)",
          "Guild Wars 2 Wiki (fr)",
          "Gundam Wiki",
          "HTYP",
          "Halachipedia",
          "Herocopia",
          "Heroes of Gaia Wiki",
          "Historia",
          "Hive13 Wiki",
          "Huis van de Nijmeegse geschiedenis",
          "ICP Wiki",
          "IMAGE",
          "IPitomy Wiki",
          "Ice",
          "InfoWissWiki",
          "Interlinking Pictura",
          "Istaria Lexica",
          "Järviwiki",
          "KaffeeWiki",
          "KaffeeWiki - die Wissensdatenbank rund um Espresso, Espressomaschinen und Kaffee",
          "Kanterella",
          "Karlswiki",
          "Kerkliedwiki",
          "Keroro Wiki",
          "Klimawandel",
          "Kruedewagen.de",
          "Kubbwiki",
          "Kust Wiki",
          "LOMSO",
          "LOVE",
          "LRDE",
          "LaborWiki",
          "Le Dico des Ados",
          "Le wiki Camelot Unchained - JeuxOnLine",
          "Le wiki Defiance - JeuxOnLine",
          "Le wiki EverQuest Next - JeuxOnLine",
          "Le wiki Final Fantasy XIV Online - JeuxOnLine",
          "Le wiki Tera - JeuxOnLine",
          "Leviolondejos.wiki",
          "Lexicon Leponticum",
          "LibrePlanet",
          "Liquipedia Arena FPS Wiki",
          "Liquipedia Commons",
          "Liquipedia Counter-Strike",
          "Liquipedia Dota2 Wiki",
          "Liquipedia Fighting Games Wiki",
          "Liquipedia Hearthstone Wiki",
          "Liquipedia Heroes of the Storm Wiki",
          "Liquipedia League of Legends Wiki",
          "Liquipedia Overwatch",
          "Liquipedia Rainbow Six Wiki",
          "Liquipedia Rocket League Wiki",
          "Liquipedia Smash Wiki",
          "Liquipedia Starcraft 2 Wiki",
          "Liquipedia Starcraft Wiki",
          "Liquipedia Team Fortress Wiki",
          "Liquipedia Warcraft Wiki",
          "Liquipedia World of Warcraft Wiki",
          "Logius SBR EN Wiki",
          "Logius SBR Wiki",
          "London Hackspace Wiki",
          "M59Wiki",
          "Mabinoger Wiki",
          "Mabinogi World Wiki",
          "Mad Men Wiki",
          "Marketing-United",
          "Marvel Cinematic Universe Wiki (en)",
          "Marvel Cinematic Universe Wiki (fr)",
          "Marvel: War of Heroes Wiki",
          "Monoskop",
          "Mooncell",
          "Mwstake",
          "NORA Online",
          "Nablawiki",
          "Narutopedia",
          "National Cancer Prevention Policy",
          "National Gallery Research Wiki",
          "Negima! Wiki",
          "Niva.ws",
          "OGD Cockpit",
          "OIAm Repository",
          "OSGeo Wiki",
          "Our Brant",
          "Pareltaal",
          "Pearl Language",
          "Perrypedia",
          "Pfalz",
          "PhysikWiki",
          "PiratenWiki Brandenburg",
          "Poképédia",
          "Protoball",
          "Protonation (meta)",
          "PsychonautWiki",
          "QualityBox Demo",
          "ROSA",
          "Rangjung Yeshe Wiki - Dharma Dictionnary",
          "ReplicationWiki",
          "RevSpace",
          "Ring of Brodgar",
          "Rueda-Wiki",
          "S.T.E.P. Project Wiki",
          "SEG Wiki",
          "SKYbrary",
          "SKYbrary Wiki",
          "SME Server",
          "SMW Testwiki",
          "SNPedia",
          "Sanat",
          "SaruWiki",
          "SaveMLAK",
          "Sciencinfolycee",
          "Scientolipedia",
          "Scoutwiki (fr)",
          "Scoutwiki (nl)",
          "Secret Wiki",
          "Semantic CorA",
          "Semantic MediaWiki",
          "Semantic MediaWiki - Sandbox",
          "Semantic MediaWiki Test Wiki",
          "Semantic Stargate Wiki (en) (noip.me)",
          "Semantic Stargate Wiki (en) (shoutwiki.com)",
          "Semantic Stargate Wiki (fr) (noip.me)",
          "Semantic Stargate Wiki (fr) (shoutwiki.com)",
          "ShadowHaven",
          "Shadowlack Wiki",
          "Shroud of the Avatar Wiki - SotA",
          "SiWaWa",
          "SignWiki (signwiki.is)",
          "SignWiki (tz.signwiki.org)",
          "Signwiki",
          "Skazka",
          "Software Wiki",
          "Solab",
          "Soul Eater Wiki",
          "Spearfish Lake Tales Wiki",
          "Splitterwiki",
          "SporeWiki",
          "Stationery Wiki",
          "SubSurfWiki",
          "TEHCC Wiki",
          "THBWiki",
          "TangoWiki",
          "TestWiki (standards.kdz.eu)",
          "The Doctor Who Cuttings Archive",
          "The Guide to Japanese Castles",
          "The RuneScape Wiki",
          "The Third Turn",
          "The Traditional Tune Archive",
          "Theaterencyclopedie",
          "Think tank network initiative",
          "Tieteen termipankki",
          "Tijdbalk Amersfoort",
          "Traditio",
          "Transit.Wiki",
          "Translatewiki.net",
          "Tweeki",
          "Ultima Codex",
          "University Innovation",
          "University of Manitoba Internal Medicine Wiki",
          "Veikkos-archiv",
          "Verwaltungskooperation",
          "Verwaltungspreis",
          "Violations Tracker",
          "Virtual Skipper Wiki",
          "VoWi",
          "WSU Technology Knowledge Base",
          "Wetzipedia",
          "Wien Geschichte Wiki",
          "Wiki Remix Biens Communs",
          "Wiki Valley",
          "Wiki WebEmotion",
          "Wiki loves parliaments",
          "Wiki privé de démonstration – Wiki Valley",
          "Wiki.debian-fr",
          "WikiHoster.net",
          "WikiParques",
          "WikiPasy.pl",
          "WikiSexGuide",
          "WikiSpooks",
          "WikiSummaries",
          "WikiTraba",
          "WikiTranslate",
          "Wikibase Solutions",
          "Wikidoc.org",
          "Wikifab (en)",
          "Wikincat",
          "Wiktenauer",
          "WindhagWiki",
          "Wing Commander Encyclopedia",
          "WirmoWiki",
          "Wissensbasis",
          "WoWWiki",
          "Yu-Gi-Oh! Wikia",
          "Zd10 Wiki",
          "Zombie Jombie Wiki",
          "الکتاب",
          "ويكي الجندر",
          "スーパーロボット大戦Wiki"
         ],
         "lat": [
          43.43278,
          29.69972,
          51.56667,
          51,
          42.98861,
          39,
          33.645,
          42.98861,
          33.92694,
          46,
          52.5,
          52.5,
          50.83333,
          51.51417,
          51,
          51.65,
          51.65,
          51.65,
          56.95,
          38.92667,
          45.55944,
          51,
          51,
          51.65,
          51.65,
          46,
          43.43278,
          53.55,
          40.21806,
          52.5,
          50.83333,
          -32.11667,
          33.92694,
          51,
          51,
          34.04389,
          22.28333,
          50.83333,
          42.98861,
          40.08778,
          40.21806,
          33.92694,
          40.05472,
          46,
          34.04389,
          39.49,
          51,
          52.51667,
          46,
          52.5,
          40.05472,
          42.98861,
          51,
          52.5,
          51,
          42.98861,
          64,
          51,
          29.48889,
          41.40889,
          42.98861,
          52.5,
          43.43278,
          43.43278,
          51.5,
          62,
          42.98861,
          42.98861,
          51,
          52.5,
          42.36472,
          51,
          51,
          43.05111,
          51,
          41.9,
          52.5,
          46,
          51,
          38,
          42.36778,
          42.36778,
          42.98861,
          46,
          42.98861,
          51,
          39.56444,
          39.56444,
          39.56444,
          39.56444,
          42.98861,
          37.04472,
          39.77944,
          34.02028,
          42.98861,
          50.08333,
          40.72667,
          52.5,
          48.76667,
          51.91667,
          45.41667,
          43.43278,
          51.65,
          51.65,
          51,
          64,
          51,
          51,
          38,
          51,
          52.5,
          42.98861,
          51,
          50.18333,
          51,
          50.83333,
          49.44778,
          52,
          48.81472,
          51,
          52.5,
          46,
          46,
          46,
          46,
          46,
          45.5,
          48.2,
          42.36472,
          38.58167,
          38.58167,
          38.58167,
          38.58167,
          38.58167,
          38.58167,
          38.58167,
          38.58167,
          38.58167,
          38.58167,
          38.58167,
          38.58167,
          38.58167,
          38.58167,
          38.58167,
          38.58167,
          38.58167,
          52.5,
          52.5,
          60,
          51,
          39.49,
          39.49,
          42.98861,
          53.16667,
          45.55944,
          45.55944,
          42.98861,
          49.75,
          22.36667,
          37.78972,
          52.5,
          55.75222,
          42.98861,
          -32.11667,
          51.5,
          42.98861,
          38.58167,
          51,
          46,
          44.56472,
          42.98861,
          51.56667,
          51.56667,
          52.51667,
          51,
          52.51667,
          49.44778,
          51.5,
          33.92694,
          34.02028,
          42.98861,
          34.05306,
          52.5,
          29.69972,
          51.53333,
          52.5,
          34.88889,
          51,
          38,
          36.09722,
          52.5,
          52.5,
          46,
          51,
          29.69972,
          64,
          46,
          40.5525,
          48.82222,
          9,
          63.56667,
          63.56667,
          53.16667,
          51.65,
          51,
          52.51667,
          42.98861,
          45.55944,
          43.43278,
          45.55944,
          43.43278,
          39.04361,
          42.66444,
          40.21806,
          47,
          65,
          65,
          65,
          40.45306,
          42.98861,
          47.36667,
          42.98861,
          40.45306,
          51,
          42.98861,
          51,
          40.5525,
          40.21806,
          34.04389,
          39.56444,
          51,
          41.87444,
          33.675,
          42.98861,
          42.72583,
          46,
          52.5,
          46,
          60.17556,
          52.5,
          39.04361,
          39.49,
          46,
          51,
          40.21806,
          39.49,
          33.92694,
          49.44778,
          51,
          51,
          48.15,
          42.98861,
          48.2,
          44.96778,
          47,
          48.2,
          45.5,
          51,
          52.5,
          51,
          51,
          46,
          51,
          40.21806,
          52,
          39.56444,
          60,
          33.92694,
          51.5,
          51.5,
          52.5,
          39.04361,
          48.15,
          33.85028,
          39.49,
          51,
          29.75222,
          61.93333,
          49.00472,
          42.98861,
          42.98861,
          33.92694,
          42.98861,
          37.425,
          39.49,
          35.685
         ],
         "legendgroup": "",
         "lon": [
          -70.43167,
          -94.41417,
          4.8,
          9,
          -70.53472,
          71,
          -116.32139,
          -70.53472,
          -116.13889,
          2,
          5.75,
          5.75,
          4.33333,
          0.09306,
          9,
          6.18333,
          6.18333,
          6.18333,
          24.1,
          -76.60639,
          4.12833,
          9,
          9,
          6.18333,
          6.18333,
          2,
          -70.43167,
          10,
          -110.38667,
          5.75,
          4,
          151.21667,
          -116.13889,
          9,
          9,
          -117.74889,
          114.15,
          4,
          -70.53472,
          -104.62639,
          -110.38667,
          -116.13889,
          -74.59167,
          15,
          -117.74889,
          -73.52278,
          9,
          13.4,
          25,
          5.75,
          -74.59167,
          -70.53472,
          9,
          5.75,
          9,
          -70.53472,
          26,
          9,
          -97.60139,
          -74.3375,
          -70.53472,
          5.75,
          -70.43167,
          -70.43167,
          0.13,
          15,
          -70.53472,
          -70.53472,
          9,
          5.75,
          -70.89722,
          9,
          9,
          -76.4775,
          9,
          12.48333,
          5.75,
          2,
          9,
          -97,
          -69.03111,
          -69.03111,
          -70.53472,
          25,
          -70.53472,
          9,
          -74.40306,
          -74.40306,
          -74.40306,
          -74.40306,
          -70.53472,
          -121.89778,
          -85.86722,
          -117.60722,
          -70.53472,
          19.91667,
          -72.00194,
          5.75,
          9.18333,
          4.5,
          -74.3,
          -70.43167,
          6.18333,
          6.18333,
          9,
          26,
          9,
          9,
          -97,
          9,
          5.75,
          -70.53472,
          9,
          8.75,
          9,
          4,
          11.06833,
          20,
          2.36083,
          9,
          5.75,
          2,
          2,
          2,
          2,
          2,
          -72.41667,
          16.36667,
          -70.89722,
          -120.50556,
          -120.50556,
          -120.50556,
          -120.50556,
          -120.50556,
          -120.50556,
          -120.50556,
          -120.50556,
          -120.50556,
          -120.50556,
          -120.50556,
          -120.50556,
          -120.50556,
          -120.50556,
          -120.50556,
          -120.50556,
          -120.50556,
          5.75,
          5.75,
          100,
          9,
          -73.52278,
          -73.52278,
          -70.53472,
          8.2,
          4.12833,
          4.12833,
          -70.53472,
          15.5,
          114.1,
          -121.60583,
          5.75,
          37.61556,
          -70.53472,
          151.21667,
          0.13,
          -70.53472,
          -120.50556,
          9,
          25,
          -122.73806,
          -70.53472,
          4.8,
          4.8,
          13.4,
          9,
          13.4,
          11.06833,
          0.13,
          -116.13889,
          -117.60722,
          -70.53472,
          -117.73583,
          5.75,
          -94.41417,
          9.93333,
          5.75,
          -80.97639,
          9,
          -97,
          -94.03722,
          5.75,
          5.75,
          2,
          9,
          -94.41417,
          26,
          25,
          -73.70861,
          2.12222,
          -80,
          25.56667,
          25.56667,
          8.2,
          6.18333,
          9,
          13.4,
          -70.53472,
          4.12833,
          -70.43167,
          4.12833,
          -70.43167,
          -76.5125,
          -82.76972,
          -110.38667,
          8,
          -18,
          -18,
          -18,
          -78.07056,
          -70.53472,
          8.55,
          -70.53472,
          -78.07056,
          9,
          -70.53472,
          9,
          -73.70861,
          -110.38667,
          -117.74889,
          -74.40306,
          9,
          -86.34972,
          -116.26611,
          -70.53472,
          -83.36389,
          25,
          5.75,
          25,
          24.93417,
          5.75,
          -76.5125,
          -73.52278,
          25,
          9,
          -110.38667,
          -73.52278,
          -116.13889,
          11.06833,
          9,
          9,
          11.58333,
          -70.53472,
          16.36667,
          -92.91167,
          8,
          16.36667,
          -72.41667,
          9,
          5.75,
          9,
          9,
          2,
          9,
          -110.38667,
          20,
          -74.40306,
          100,
          -116.13889,
          0.13,
          0.13,
          5.75,
          -76.5125,
          11.58333,
          -116.20889,
          -73.52278,
          9,
          -94.63306,
          29.05,
          8.38583,
          -70.53472,
          -70.53472,
          -116.13889,
          -70.53472,
          -120.05389,
          -73.52278,
          139.75139
         ],
         "marker": {
          "color": "#636efa",
          "size": 10,
          "symbol": "circle"
         },
         "mode": "markers",
         "name": "",
         "showlegend": false,
         "type": "scattergeo"
        }
       ],
       "layout": {
        "geo": {
         "center": {},
         "domain": {
          "x": [
           0,
           1
          ],
          "y": [
           0,
           1
          ]
         }
        },
        "legend": {
         "tracegroupgap": 0
        },
        "margin": {
         "t": 60
        },
        "template": {
         "data": {
          "bar": [
           {
            "error_x": {
             "color": "#2a3f5f"
            },
            "error_y": {
             "color": "#2a3f5f"
            },
            "marker": {
             "line": {
              "color": "#E5ECF6",
              "width": 0.5
             },
             "pattern": {
              "fillmode": "overlay",
              "size": 10,
              "solidity": 0.2
             }
            },
            "type": "bar"
           }
          ],
          "barpolar": [
           {
            "marker": {
             "line": {
              "color": "#E5ECF6",
              "width": 0.5
             },
             "pattern": {
              "fillmode": "overlay",
              "size": 10,
              "solidity": 0.2
             }
            },
            "type": "barpolar"
           }
          ],
          "carpet": [
           {
            "aaxis": {
             "endlinecolor": "#2a3f5f",
             "gridcolor": "white",
             "linecolor": "white",
             "minorgridcolor": "white",
             "startlinecolor": "#2a3f5f"
            },
            "baxis": {
             "endlinecolor": "#2a3f5f",
             "gridcolor": "white",
             "linecolor": "white",
             "minorgridcolor": "white",
             "startlinecolor": "#2a3f5f"
            },
            "type": "carpet"
           }
          ],
          "choropleth": [
           {
            "colorbar": {
             "outlinewidth": 0,
             "ticks": ""
            },
            "type": "choropleth"
           }
          ],
          "contour": [
           {
            "colorbar": {
             "outlinewidth": 0,
             "ticks": ""
            },
            "colorscale": [
             [
              0,
              "#0d0887"
             ],
             [
              0.1111111111111111,
              "#46039f"
             ],
             [
              0.2222222222222222,
              "#7201a8"
             ],
             [
              0.3333333333333333,
              "#9c179e"
             ],
             [
              0.4444444444444444,
              "#bd3786"
             ],
             [
              0.5555555555555556,
              "#d8576b"
             ],
             [
              0.6666666666666666,
              "#ed7953"
             ],
             [
              0.7777777777777778,
              "#fb9f3a"
             ],
             [
              0.8888888888888888,
              "#fdca26"
             ],
             [
              1,
              "#f0f921"
             ]
            ],
            "type": "contour"
           }
          ],
          "contourcarpet": [
           {
            "colorbar": {
             "outlinewidth": 0,
             "ticks": ""
            },
            "type": "contourcarpet"
           }
          ],
          "heatmap": [
           {
            "colorbar": {
             "outlinewidth": 0,
             "ticks": ""
            },
            "colorscale": [
             [
              0,
              "#0d0887"
             ],
             [
              0.1111111111111111,
              "#46039f"
             ],
             [
              0.2222222222222222,
              "#7201a8"
             ],
             [
              0.3333333333333333,
              "#9c179e"
             ],
             [
              0.4444444444444444,
              "#bd3786"
             ],
             [
              0.5555555555555556,
              "#d8576b"
             ],
             [
              0.6666666666666666,
              "#ed7953"
             ],
             [
              0.7777777777777778,
              "#fb9f3a"
             ],
             [
              0.8888888888888888,
              "#fdca26"
             ],
             [
              1,
              "#f0f921"
             ]
            ],
            "type": "heatmap"
           }
          ],
          "heatmapgl": [
           {
            "colorbar": {
             "outlinewidth": 0,
             "ticks": ""
            },
            "colorscale": [
             [
              0,
              "#0d0887"
             ],
             [
              0.1111111111111111,
              "#46039f"
             ],
             [
              0.2222222222222222,
              "#7201a8"
             ],
             [
              0.3333333333333333,
              "#9c179e"
             ],
             [
              0.4444444444444444,
              "#bd3786"
             ],
             [
              0.5555555555555556,
              "#d8576b"
             ],
             [
              0.6666666666666666,
              "#ed7953"
             ],
             [
              0.7777777777777778,
              "#fb9f3a"
             ],
             [
              0.8888888888888888,
              "#fdca26"
             ],
             [
              1,
              "#f0f921"
             ]
            ],
            "type": "heatmapgl"
           }
          ],
          "histogram": [
           {
            "marker": {
             "pattern": {
              "fillmode": "overlay",
              "size": 10,
              "solidity": 0.2
             }
            },
            "type": "histogram"
           }
          ],
          "histogram2d": [
           {
            "colorbar": {
             "outlinewidth": 0,
             "ticks": ""
            },
            "colorscale": [
             [
              0,
              "#0d0887"
             ],
             [
              0.1111111111111111,
              "#46039f"
             ],
             [
              0.2222222222222222,
              "#7201a8"
             ],
             [
              0.3333333333333333,
              "#9c179e"
             ],
             [
              0.4444444444444444,
              "#bd3786"
             ],
             [
              0.5555555555555556,
              "#d8576b"
             ],
             [
              0.6666666666666666,
              "#ed7953"
             ],
             [
              0.7777777777777778,
              "#fb9f3a"
             ],
             [
              0.8888888888888888,
              "#fdca26"
             ],
             [
              1,
              "#f0f921"
             ]
            ],
            "type": "histogram2d"
           }
          ],
          "histogram2dcontour": [
           {
            "colorbar": {
             "outlinewidth": 0,
             "ticks": ""
            },
            "colorscale": [
             [
              0,
              "#0d0887"
             ],
             [
              0.1111111111111111,
              "#46039f"
             ],
             [
              0.2222222222222222,
              "#7201a8"
             ],
             [
              0.3333333333333333,
              "#9c179e"
             ],
             [
              0.4444444444444444,
              "#bd3786"
             ],
             [
              0.5555555555555556,
              "#d8576b"
             ],
             [
              0.6666666666666666,
              "#ed7953"
             ],
             [
              0.7777777777777778,
              "#fb9f3a"
             ],
             [
              0.8888888888888888,
              "#fdca26"
             ],
             [
              1,
              "#f0f921"
             ]
            ],
            "type": "histogram2dcontour"
           }
          ],
          "mesh3d": [
           {
            "colorbar": {
             "outlinewidth": 0,
             "ticks": ""
            },
            "type": "mesh3d"
           }
          ],
          "parcoords": [
           {
            "line": {
             "colorbar": {
              "outlinewidth": 0,
              "ticks": ""
             }
            },
            "type": "parcoords"
           }
          ],
          "pie": [
           {
            "automargin": true,
            "type": "pie"
           }
          ],
          "scatter": [
           {
            "fillpattern": {
             "fillmode": "overlay",
             "size": 10,
             "solidity": 0.2
            },
            "type": "scatter"
           }
          ],
          "scatter3d": [
           {
            "line": {
             "colorbar": {
              "outlinewidth": 0,
              "ticks": ""
             }
            },
            "marker": {
             "colorbar": {
              "outlinewidth": 0,
              "ticks": ""
             }
            },
            "type": "scatter3d"
           }
          ],
          "scattercarpet": [
           {
            "marker": {
             "colorbar": {
              "outlinewidth": 0,
              "ticks": ""
             }
            },
            "type": "scattercarpet"
           }
          ],
          "scattergeo": [
           {
            "marker": {
             "colorbar": {
              "outlinewidth": 0,
              "ticks": ""
             }
            },
            "type": "scattergeo"
           }
          ],
          "scattergl": [
           {
            "marker": {
             "colorbar": {
              "outlinewidth": 0,
              "ticks": ""
             }
            },
            "type": "scattergl"
           }
          ],
          "scattermapbox": [
           {
            "marker": {
             "colorbar": {
              "outlinewidth": 0,
              "ticks": ""
             }
            },
            "type": "scattermapbox"
           }
          ],
          "scatterpolar": [
           {
            "marker": {
             "colorbar": {
              "outlinewidth": 0,
              "ticks": ""
             }
            },
            "type": "scatterpolar"
           }
          ],
          "scatterpolargl": [
           {
            "marker": {
             "colorbar": {
              "outlinewidth": 0,
              "ticks": ""
             }
            },
            "type": "scatterpolargl"
           }
          ],
          "scatterternary": [
           {
            "marker": {
             "colorbar": {
              "outlinewidth": 0,
              "ticks": ""
             }
            },
            "type": "scatterternary"
           }
          ],
          "surface": [
           {
            "colorbar": {
             "outlinewidth": 0,
             "ticks": ""
            },
            "colorscale": [
             [
              0,
              "#0d0887"
             ],
             [
              0.1111111111111111,
              "#46039f"
             ],
             [
              0.2222222222222222,
              "#7201a8"
             ],
             [
              0.3333333333333333,
              "#9c179e"
             ],
             [
              0.4444444444444444,
              "#bd3786"
             ],
             [
              0.5555555555555556,
              "#d8576b"
             ],
             [
              0.6666666666666666,
              "#ed7953"
             ],
             [
              0.7777777777777778,
              "#fb9f3a"
             ],
             [
              0.8888888888888888,
              "#fdca26"
             ],
             [
              1,
              "#f0f921"
             ]
            ],
            "type": "surface"
           }
          ],
          "table": [
           {
            "cells": {
             "fill": {
              "color": "#EBF0F8"
             },
             "line": {
              "color": "white"
             }
            },
            "header": {
             "fill": {
              "color": "#C8D4E3"
             },
             "line": {
              "color": "white"
             }
            },
            "type": "table"
           }
          ]
         },
         "layout": {
          "annotationdefaults": {
           "arrowcolor": "#2a3f5f",
           "arrowhead": 0,
           "arrowwidth": 1
          },
          "autotypenumbers": "strict",
          "coloraxis": {
           "colorbar": {
            "outlinewidth": 0,
            "ticks": ""
           }
          },
          "colorscale": {
           "diverging": [
            [
             0,
             "#8e0152"
            ],
            [
             0.1,
             "#c51b7d"
            ],
            [
             0.2,
             "#de77ae"
            ],
            [
             0.3,
             "#f1b6da"
            ],
            [
             0.4,
             "#fde0ef"
            ],
            [
             0.5,
             "#f7f7f7"
            ],
            [
             0.6,
             "#e6f5d0"
            ],
            [
             0.7,
             "#b8e186"
            ],
            [
             0.8,
             "#7fbc41"
            ],
            [
             0.9,
             "#4d9221"
            ],
            [
             1,
             "#276419"
            ]
           ],
           "sequential": [
            [
             0,
             "#0d0887"
            ],
            [
             0.1111111111111111,
             "#46039f"
            ],
            [
             0.2222222222222222,
             "#7201a8"
            ],
            [
             0.3333333333333333,
             "#9c179e"
            ],
            [
             0.4444444444444444,
             "#bd3786"
            ],
            [
             0.5555555555555556,
             "#d8576b"
            ],
            [
             0.6666666666666666,
             "#ed7953"
            ],
            [
             0.7777777777777778,
             "#fb9f3a"
            ],
            [
             0.8888888888888888,
             "#fdca26"
            ],
            [
             1,
             "#f0f921"
            ]
           ],
           "sequentialminus": [
            [
             0,
             "#0d0887"
            ],
            [
             0.1111111111111111,
             "#46039f"
            ],
            [
             0.2222222222222222,
             "#7201a8"
            ],
            [
             0.3333333333333333,
             "#9c179e"
            ],
            [
             0.4444444444444444,
             "#bd3786"
            ],
            [
             0.5555555555555556,
             "#d8576b"
            ],
            [
             0.6666666666666666,
             "#ed7953"
            ],
            [
             0.7777777777777778,
             "#fb9f3a"
            ],
            [
             0.8888888888888888,
             "#fdca26"
            ],
            [
             1,
             "#f0f921"
            ]
           ]
          },
          "colorway": [
           "#636efa",
           "#EF553B",
           "#00cc96",
           "#ab63fa",
           "#FFA15A",
           "#19d3f3",
           "#FF6692",
           "#B6E880",
           "#FF97FF",
           "#FECB52"
          ],
          "font": {
           "color": "#2a3f5f"
          },
          "geo": {
           "bgcolor": "white",
           "lakecolor": "white",
           "landcolor": "#E5ECF6",
           "showlakes": true,
           "showland": true,
           "subunitcolor": "white"
          },
          "hoverlabel": {
           "align": "left"
          },
          "hovermode": "closest",
          "mapbox": {
           "style": "light"
          },
          "paper_bgcolor": "white",
          "plot_bgcolor": "#E5ECF6",
          "polar": {
           "angularaxis": {
            "gridcolor": "white",
            "linecolor": "white",
            "ticks": ""
           },
           "bgcolor": "#E5ECF6",
           "radialaxis": {
            "gridcolor": "white",
            "linecolor": "white",
            "ticks": ""
           }
          },
          "scene": {
           "xaxis": {
            "backgroundcolor": "#E5ECF6",
            "gridcolor": "white",
            "gridwidth": 2,
            "linecolor": "white",
            "showbackground": true,
            "ticks": "",
            "zerolinecolor": "white"
           },
           "yaxis": {
            "backgroundcolor": "#E5ECF6",
            "gridcolor": "white",
            "gridwidth": 2,
            "linecolor": "white",
            "showbackground": true,
            "ticks": "",
            "zerolinecolor": "white"
           },
           "zaxis": {
            "backgroundcolor": "#E5ECF6",
            "gridcolor": "white",
            "gridwidth": 2,
            "linecolor": "white",
            "showbackground": true,
            "ticks": "",
            "zerolinecolor": "white"
           }
          },
          "shapedefaults": {
           "line": {
            "color": "#2a3f5f"
           }
          },
          "ternary": {
           "aaxis": {
            "gridcolor": "white",
            "linecolor": "white",
            "ticks": ""
           },
           "baxis": {
            "gridcolor": "white",
            "linecolor": "white",
            "ticks": ""
           },
           "bgcolor": "#E5ECF6",
           "caxis": {
            "gridcolor": "white",
            "linecolor": "white",
            "ticks": ""
           }
          },
          "title": {
           "x": 0.05
          },
          "xaxis": {
           "automargin": true,
           "gridcolor": "white",
           "linecolor": "white",
           "ticks": "",
           "title": {
            "standoff": 15
           },
           "zerolinecolor": "white",
           "zerolinewidth": 2
          },
          "yaxis": {
           "automargin": true,
           "gridcolor": "white",
           "linecolor": "white",
           "ticks": "",
           "title": {
            "standoff": 15
           },
           "zerolinecolor": "white",
           "zerolinewidth": 2
          }
         }
        }
       }
      }
     },
     "metadata": {},
     "output_type": "display_data"
    }
   ],
   "source": [
    "fig = px.scatter_geo(df,lat='lat',lon='long', hover_name='Name')#, width=3000, height=1200)\n",
    "#fig.update_layout(title_x=0.5)\n",
    "fig.update_traces(marker=dict(size=10))\n",
    "fig.show()\n",
    "fig.write_image(\"Images/world_map.png\")"
   ]
  },
  {
   "attachments": {},
   "cell_type": "markdown",
   "metadata": {
    "pycharm": {
     "name": "#%% md\n"
    }
   },
   "source": [
    "Plot the average number of edits per SMW instance"
   ]
  },
  {
   "cell_type": "code",
   "execution_count": 15,
   "metadata": {
    "pycharm": {
     "name": "#%%\n"
    }
   },
   "outputs": [
    {
     "data": {
      "image/png": "[encoded data removed]",
      "text/plain": [
       "<Figure size 1440x576 with 1 Axes>"
      ]
     },
     "metadata": {
      "needs_background": "light"
     },
     "output_type": "display_data"
    }
   ],
   "source": [
    "edits = df['Avg_Edits'].tolist()\n",
    "\n",
    "edits = np.array(edits)\n",
    "\n",
    "plt.figure(figsize=(20, 8))\n",
    "plt.hist(edits, bins=30)\n",
    "\n",
    "#plt.bar(triples, width=0.3)\n",
    "plt.xlabel('Num. of Edits')\n",
    "plt.ylabel('Num. of SMW instances')\n",
    "plt.ticklabel_format(axis = 'both', style = 'plain')\n",
    "plt.rcParams.update({'font.size': 20})\n",
    "plt.show()"
   ]
  },
  {
   "attachments": {},
   "cell_type": "markdown",
   "metadata": {
    "pycharm": {
     "name": "#%% md\n"
    }
   },
   "source": [
    "Plot the number of triples per SMW instance"
   ]
  },
  {
   "cell_type": "code",
   "execution_count": 16,
   "metadata": {
    "pycharm": {
     "name": "#%%\n"
    }
   },
   "outputs": [
    {
     "data": {
      "image/png": "[encoded data removed]",
      "text/plain": [
       "<Figure size 1440x576 with 1 Axes>"
      ]
     },
     "metadata": {
      "needs_background": "light"
     },
     "output_type": "display_data"
    }
   ],
   "source": [
    "def xfunc(x, pos):\n",
    "    s = '{:0,d}'.format(int(x))\n",
    "    return s\n",
    "\n",
    "list = []\n",
    "\n",
    "for i in df['Triples'].tolist():\n",
    "    if i > 0:\n",
    "        list.append(i)\n",
    "\n",
    "triples = np.array(list)\n",
    "\n",
    "x_format = tkr.FuncFormatter(xfunc)\n",
    "\n",
    "\n",
    "fig, ax = plt.subplots()\n",
    "fig.set_size_inches(20,8)\n",
    "ax.hist(triples, bins = 30)\n",
    "ax.xaxis.set_major_formatter(x_format)\n",
    "ax.set_xlabel('Num. of Triples')\n",
    "ax.set_ylabel('Num. of SMW instances')\n",
    "\n",
    "plt.show()"
   ]
  },
  {
   "attachments": {},
   "cell_type": "markdown",
   "metadata": {
    "pycharm": {
     "name": "#%% md\n"
    }
   },
   "source": [
    "SMW topics"
   ]
  },
  {
   "cell_type": "code",
   "execution_count": null,
   "metadata": {
    "pycharm": {
     "name": "#%%\n"
    }
   },
   "outputs": [],
   "source": [
    "tag_df = df_import[[\"Has URL\", \"Has tag\"]]\n",
    "\n",
    "tag_df = tag_df.dropna() \n",
    "\n",
    "tag_list = tag_df[\"Tag\"].tolist()\n",
    "\n",
    "tag_dict = {}\n",
    "\n",
    "for i in tag_list:\n",
    "    if i in tag_dict:\n",
    "        tag_dict[i] = tag_dict[i] + 1\n",
    "    else:\n",
    "        tag_dict[i] = 1\n",
    "\n",
    "#get 10 biggest categories\n",
    "tag_nums = list(tag_dict.values())\n",
    "\n",
    "list.sort(tag_nums, reverse = True)"
   ]
  },
  {
   "attachments": {},
   "cell_type": "markdown",
   "metadata": {
    "pycharm": {
     "name": "#%% md\n"
    }
   },
   "source": [
    "Find the categories with the most occurences"
   ]
  },
  {
   "cell_type": "code",
   "execution_count": null,
   "metadata": {
    "pycharm": {
     "name": "#%%\n"
    }
   },
   "outputs": [],
   "source": [
    "tag_keys = list(tag_dict.keys())\n",
    "\n",
    "sum_tags = sum(tag_nums)\n",
    "\n",
    "for i in tag_keys:\n",
    "    if tag_dict[i] < 8:\n",
    "        del tag_dict[i]\n",
    "        #print (tag_dict[i])\n",
    "    else:\n",
    "        tag_dict[i] = (tag_dict[i] / sum_tags) * 100\n",
    "\n",
    "tag_dict = dict(sorted(tag_dict.items(), key=lambda item: item[1], reverse=True))"
   ]
  },
  {
   "attachments": {},
   "cell_type": "markdown",
   "metadata": {
    "pycharm": {
     "name": "#%% md\n"
    }
   },
   "source": [
    "Plot the topics with the highest number of occurences"
   ]
  },
  {
   "cell_type": "code",
   "execution_count": null,
   "metadata": {
    "pycharm": {
     "name": "#%%\n"
    }
   },
   "outputs": [],
   "source": [
    "lists = tag_dict.items()\n",
    "\n",
    "x, y = zip(*lists) \n",
    "\n",
    "fig, ax = plt.subplots()\n",
    "fig.set_size_inches(20,8)\n",
    "bars = ax.bar(x, y, width=0.31)\n",
    "ax.set_xlabel('Topic')\n",
    "ax.set_ylabel('Number of Occurences in %')\n",
    "\n",
    "ax.bar_label(bars, labels = bar_labels)\n",
    "\n",
    "plt.rcParams.update({'font.size': 20})\n",
    "plt.legend(['Topics in %'])\n",
    "plt.show()"
   ]
  },
  {
   "attachments": {},
   "cell_type": "markdown",
   "metadata": {
    "pycharm": {
     "name": "#%% md\n"
    }
   },
   "source": [
    "error statistics"
   ]
  },
  {
   "cell_type": "code",
   "execution_count": null,
   "metadata": {
    "pycharm": {
     "name": "#%%\n"
    }
   },
   "outputs": [],
   "source": [
    "path = \"errors.json\"\n",
    "\n",
    "df = pd.read_json(path)\n",
    "df = df.T\n",
    "\n",
    "df = df.drop([1,2], axis = 1)\n",
    "\n",
    "df['index_col'] = df.index\n",
    "\n",
    "df = df.reset_index()\n",
    "df.columns = [\"wiki\", \"error\", \"wiki2\"]\n",
    "\n",
    "df = df[[\"wiki\", \"error\"]]"
   ]
  },
  {
   "cell_type": "code",
   "execution_count": null,
   "metadata": {
    "pycharm": {
     "name": "#%%\n"
    }
   },
   "outputs": [],
   "source": [
    "df_plot = df.groupby(df[\"error\"], as_index=False).count()\n",
    "\n",
    "df_plot.iloc[0,0] = \"429 Limited access rate\"\n",
    "df_plot.iloc[0,1] = 0\n",
    "df_plot.iloc[2,0] = \"Check for secure connection\""
   ]
  },
  {
   "cell_type": "code",
   "execution_count": null,
   "metadata": {
    "pycharm": {
     "name": "#%%\n"
    }
   },
   "outputs": [],
   "source": [
    "fig, ax = plt.subplots()\n",
    "fig.set_size_inches(20,8)\n",
    "ax.bar(df_plot['error'], df_plot['wiki'], width=0.4)\n",
    "ax.set_xlabel('Name of the error')\n",
    "ax.set_ylabel('Number of occurences')\n",
    "\n",
    "plt.rcParams.update({'font.size': 20})\n",
    "plt.show()"
   ]
  },
  {
   "attachments": {},
   "cell_type": "markdown",
   "metadata": {
    "pycharm": {
     "name": "#%% md\n"
    }
   },
   "source": [
    "RDF predicates"
   ]
  },
  {
   "cell_type": "code",
   "execution_count": null,
   "metadata": {
    "pycharm": {
     "name": "#%%\n"
    }
   },
   "outputs": [],
   "source": [
    "#path to local rdf directory\n",
    "rootdir = ''\n",
    "unique_predicates = []\n",
    "\n",
    "idx = 0\n",
    "\n",
    "for subdir, dirs, files in os.walk(rootdir):\n",
    "   # Set up an RDF graph to store the data\n",
    "   g = rdflib.Graph()\n",
    "\n",
    "   idx += 1\n",
    "\n",
    "   # Load the RDF files into the graph\n",
    "   for file in files:\n",
    "      try:\n",
    "         g.parse(os.path.join(subdir, file))\n",
    "      except:\n",
    "         break\n",
    "      \n",
    "   # Create a set to store the predicates\n",
    "   predicates = set()\n",
    "\n",
    "   # Iterate over the triples in the graph\n",
    "   for s, p, o in g:\n",
    "      # Add the predicate to the set\n",
    "      predicates.add(p)\n",
    "\n",
    "   # Print the number of distinct predicates\n",
    "   print(str(idx), str(len(predicates)))\n",
    "   unique_predicates.append(len(predicates))"
   ]
  },
  {
   "attachments": {},
   "cell_type": "markdown",
   "metadata": {
    "pycharm": {
     "name": "#%% md\n"
    }
   },
   "source": [
    "Boxplot of the number of unique RDF predicates"
   ]
  },
  {
   "cell_type": "code",
   "execution_count": null,
   "metadata": {
    "pycharm": {
     "name": "#%%\n"
    }
   },
   "outputs": [],
   "source": [
    "unique_predicates = [i for i in unique_predicates if i != 0]\n",
    "\n",
    "data = np.asarray(unique_predicates)\n",
    "\n",
    "fig = plt.figure(figsize =(20, 4))\n",
    " \n",
    "plt.boxplot(data, vert=False, widths=0.5)\n",
    "\n",
    "plt.show()"
   ]
  },
  {
   "attachments": {},
   "cell_type": "markdown",
   "metadata": {
    "pycharm": {
     "name": "#%% md\n"
    }
   },
   "source": [
    "SMW frequent maintainance"
   ]
  },
  {
   "cell_type": "code",
   "execution_count": null,
   "metadata": {
    "pycharm": {
     "name": "#%%\n"
    }
   },
   "outputs": [],
   "source": [
    "df_import = pd.read_csv(\"data/smwsTotal_3.csv\")\n",
    "\n",
    "df = df_import[['Unnamed: 0', 'Founded date', 'Has edit count', 'Modification date']]"
   ]
  },
  {
   "cell_type": "code",
   "execution_count": null,
   "metadata": {
    "pycharm": {
     "name": "#%%\n"
    }
   },
   "outputs": [],
   "source": [
    "def getDaysExistence(date):\n",
    "    day = ''\n",
    "\n",
    "    if len(date.split(' ', 3)) >= 3:\n",
    "        day = date.split(' ', 3)[0] + \" \" + date.split(' ', 3)[1] + \" \" + date.split(' ', 3)[2]\n",
    "    else:\n",
    "        return 0\n",
    "\n",
    "    date = datetime.strptime(day, \"%d %B %Y\")\n",
    "    #26.10.2022 is set as the reference date for the calculation\n",
    "    dateToday = datetime.strptime(\"26 October 2022\", \"%d %B %Y\")\n",
    "    delta = dateToday - date\n",
    "\n",
    "    return delta.days\n"
   ]
  },
  {
   "cell_type": "code",
   "execution_count": null,
   "metadata": {
    "pycharm": {
     "name": "#%%\n"
    }
   },
   "outputs": [],
   "source": [
    "df['Days of existence'] = df['Founded date'].apply(getDaysExistence)        \n",
    "df['Days since last edit'] = df['Modification date'].apply(getDaysExistence) \n",
    "\n",
    "df['Days not maintained'] = df['Days of existence'] - df['Days since last edit']"
   ]
  },
  {
   "cell_type": "code",
   "execution_count": null,
   "metadata": {
    "pycharm": {
     "name": "#%%\n"
    }
   },
   "outputs": [],
   "source": [
    "fig, ax = plt.subplots()\n",
    "fig.set_size_inches(20,8)\n",
    "ax.scatter(df['Days of existence'], df['Days since last edit'])\n",
    "ax.set_xlabel('Days of existense')\n",
    "ax.set_ylabel('Days since last edit')\n",
    "\n",
    "plt.rcParams.update({'font.size': 20})\n",
    "\n",
    "plt.show()"
   ]
  },
  {
   "cell_type": "code",
   "execution_count": null,
   "metadata": {
    "pycharm": {
     "name": "#%%\n"
    }
   },
   "outputs": [],
   "source": [
    "df.where(df['Days since last edit'] < 365).dropna()"
   ]
  },
  {
   "cell_type": "code",
   "execution_count": null,
   "metadata": {
    "pycharm": {
     "name": "#%%\n"
    }
   },
   "outputs": [],
   "source": [
    "df.where(df['Days since last edit'] > 1500).dropna()"
   ]
  },
  {
   "cell_type": "code",
   "execution_count": null,
   "metadata": {
    "pycharm": {
     "name": "#%%\n"
    }
   },
   "outputs": [],
   "source": [
    "df.loc[(df['Days since last edit'] > 2000)  & df['Days of existence'] < 3000]"
   ]
  }
 ],
 "metadata": {
  "kernelspec": {
   "display_name": "Python 3.10.0 64-bit",
   "language": "python",
   "name": "python3"
  },
  "language_info": {
   "codemirror_mode": {
    "name": "ipython",
    "version": 3
   },
   "file_extension": ".py",
   "mimetype": "text/x-python",
   "name": "python",
   "nbconvert_exporter": "python",
   "pygments_lexer": "ipython3",
   "version": "3.10.0 (v3.10.0:b494f5935c, Oct  4 2021, 14:59:20) [Clang 12.0.5 (clang-1205.0.22.11)]"
  },
  "orig_nbformat": 4,
  "vscode": {
   "interpreter": {
    "hash": "aee8b7b246df8f9039afb4144a1f6fd8d2ca17a180786b69acc140d282b71a49"
   }
  }
 },
 "nbformat": 4,
 "nbformat_minor": 2
}